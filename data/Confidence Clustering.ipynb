{
 "cells": [
  {
   "cell_type": "code",
   "execution_count": 115,
   "metadata": {
    "collapsed": false
   },
   "outputs": [
    {
     "name": "stdout",
     "output_type": "stream",
     "text": [
      "\u001b[90mExact match for airport City London of Chesnut Knolls Airport.\u001b[37m\n",
      "\u001b[90mExact match for airport City London of London / Chapeskie Field.\u001b[37m\n",
      "\u001b[90mExact match for airport City London of Pioneer Airpark.\u001b[37m\n",
      "\u001b[90mExact match for airport City London of London Airport.\u001b[37m\n",
      "\u001b[90mExact match for airport City London of London Luton Airport.\u001b[37m\n",
      "\u001b[90mExact match for airport City London of London Biggin Hill Airport.\u001b[37m\n",
      "\u001b[90mExact match for airport City London of London Gatwick Airport.\u001b[37m\n",
      "\u001b[90mExact match for airport City London of London City Airport.\u001b[37m\n",
      "\u001b[90mExact match for airport City London of London Heathrow Airport.\u001b[37m\n",
      "\u001b[90mExact match for airport City London of London Stansted Airport.\u001b[37m\n",
      "\u001b[90mExact match for airport City London of RAF Northolt.\u001b[37m\n",
      "\u001b[90mExact match for airport City London of London-Corbin Airport/Magee Field.\u001b[37m\n",
      "\u001b[90mExact match for airport City London of Madison County Airport.\u001b[37m\n",
      "\u001b[90mExact match for airport City London of Roberts Airport.\u001b[37m\n"
     ]
    },
    {
     "data": {
      "text/plain": [
       "['23.975 London Luton Airport',\n",
       " '23.769 London Gatwick Airport',\n",
       " '23.760 London Heathrow Airport',\n",
       " '23.760 London Stansted Airport',\n",
       " '15.866 London City Airport',\n",
       " '15.860 London-Corbin Airport/Magee Field',\n",
       " '15.794 London Airport',\n",
       " '15.700 London Biggin Hill Airport',\n",
       " '13.363 RAF Northolt',\n",
       " '7.913 London / Chapeskie Field',\n",
       " '7.551 Groton New London Airport',\n",
       " '6.671 Pioneer Airpark',\n",
       " '6.659 Roberts Airport',\n",
       " '6.622 Madison County Airport',\n",
       " '6.573 Chesnut Knolls Airport',\n",
       " '5.076 Ben Schoeman Airport',\n",
       " '2.573 D. A. Chandler Airport',\n",
       " '2.573 Curns Airport',\n",
       " '2.571 Mcfaul Airport',\n",
       " \"2.559 Mark's Park & Airfield\",\n",
       " '2.555 Eagles Nest Airport',\n",
       " '2.517 Black Dog Farm Airport',\n",
       " '2.511 Wolfgram Airport',\n",
       " '2.511 North Windham Airport',\n",
       " '2.495 Orr-Port Airport',\n",
       " '1.384 New London Airport',\n",
       " '1.171 Orlando International Airport',\n",
       " '1.168 Bodø Airport',\n",
       " '1.137 Ontario International Airport',\n",
       " '1.113 Donetsk International Airport',\n",
       " '1.111 Eindhoven Airport',\n",
       " '1.079 Milano Linate Airport',\n",
       " '1.045 Billund Airport',\n",
       " '1.028 Rostov-on-Don Airport',\n",
       " '1.026 Monroe Regional Airport',\n",
       " '1.026 Hercílio Luz International Airport',\n",
       " '1.018 Reno Tahoe International Airport',\n",
       " '1.015 Lisbon Portela Airport',\n",
       " '1.014 Denver International Airport',\n",
       " '1.004 Vance Air Force Base',\n",
       " '1.002 Indianapolis International Airport']"
      ]
     },
     "execution_count": 115,
     "metadata": {},
     "output_type": "execute_result"
    }
   ],
   "source": [
    "%matplotlib inline\n",
    "from ResolveAirport import find_matches\n",
    "\n",
    "matches = find_matches(\"London\")\n",
    "scores = [match[0] for match in matches]\n",
    "list(map(lambda x: \"%.3f %s\" % (x[0], x[1][\"Name\"]), matches))"
   ]
  },
  {
   "cell_type": "markdown",
   "metadata": {},
   "source": [
    "# Jenks Natural Breaks"
   ]
  },
  {
   "cell_type": "code",
   "execution_count": 116,
   "metadata": {
    "collapsed": false
   },
   "outputs": [
    {
     "data": {
      "text/plain": [
       "[1.0019974, 2.5734887, 7.9129229, 23.975025]"
      ]
     },
     "execution_count": 116,
     "metadata": {},
     "output_type": "execute_result"
    }
   ],
   "source": [
    "from jenks import jenks\n",
    "clusters = jenks(scores, int(max(3, len(matches)/100)))\n",
    "clusters"
   ]
  },
  {
   "cell_type": "code",
   "execution_count": 117,
   "metadata": {
    "collapsed": false
   },
   "outputs": [
    {
     "data": {
      "image/png": "[encoded data removed]",
      "text/plain": [
       "<matplotlib.figure.Figure at 0x7fb9f8692b70>"
      ]
     },
     "metadata": {},
     "output_type": "display_data"
    }
   ],
   "source": [
    "import matplotlib\n",
    "import numpy as np\n",
    "import matplotlib.pyplot as plt\n",
    "import matplotlib.patches as patches\n",
    "from itertools import cycle\n",
    "cycol = cycle('bgrcymk')\n",
    "\n",
    "fig = plt.figure(figsize=(15,1))\n",
    "ax = fig.add_subplot(111)\n",
    "ax.scatter(scores, [0] * len(matches))\n",
    "\n",
    "boundaries = clusters\n",
    "boundaries[0] = -100\n",
    "boundaries[-1] = 100\n",
    "for left, right in zip(boundaries, boundaries[1:]):\n",
    "    ax.add_patch(patches.Rectangle(\n",
    "            (left, -1), right-left, 2,\n",
    "            alpha=0.5,\n",
    "            facecolor=next(cycol)\n",
    "        ))\n",
    "\n",
    "plt.title(\"Jenks Natural Breaks\")\n",
    "plt.show()"
   ]
  },
  {
   "cell_type": "markdown",
   "metadata": {},
   "source": [
    "### Top cluster:"
   ]
  },
  {
   "cell_type": "code",
   "execution_count": 118,
   "metadata": {
    "collapsed": false
   },
   "outputs": [
    {
     "data": {
      "text/plain": [
       "['London Luton Airport',\n",
       " 'London Gatwick Airport',\n",
       " 'London Heathrow Airport',\n",
       " 'London Stansted Airport',\n",
       " 'London City Airport',\n",
       " 'London-Corbin Airport/Magee Field',\n",
       " 'London Airport',\n",
       " 'London Biggin Hill Airport',\n",
       " 'RAF Northolt',\n",
       " 'London / Chapeskie Field']"
      ]
     },
     "execution_count": 118,
     "metadata": {},
     "output_type": "execute_result"
    }
   ],
   "source": [
    "list(map(lambda x: x[1][\"Name\"], filter(lambda x: x[0] >= clusters[-2], matches)))"
   ]
  },
  {
   "cell_type": "markdown",
   "metadata": {},
   "source": [
    "# MeanShift"
   ]
  },
  {
   "cell_type": "code",
   "execution_count": 119,
   "metadata": {
    "collapsed": false
   },
   "outputs": [
    {
     "name": "stdout",
     "output_type": "stream",
     "text": [
      "cluster 0: [ 1.38406015  1.17137459  1.16819048  1.13683247  1.11311355  1.1106812\n",
      "  1.0794228   1.04487372  1.02783626  1.02607864  1.02607018  1.01796491\n",
      "  1.0152381   1.01425328  1.00410719  1.0019973 ]\n",
      "cluster 1: [ 2.57348872  2.57273684  2.57063158  2.55920301  2.55505263  2.51748872\n",
      "  2.51099522  2.51062387  2.49499522]\n",
      "cluster 2: [ 15.8662906   15.86008611  15.79384615  15.69984615]\n",
      "cluster 3: [ 23.97502564  23.76857875  23.75971176  23.75971176]\n",
      "cluster 4: [ 6.67101832  6.65872682  6.62177444  6.57263158]\n",
      "cluster 5: [ 7.55106134]\n",
      "cluster 6: [ 5.07609854]\n",
      "cluster 7: [ 7.91292308]\n",
      "cluster 8: [ 13.36317949]\n"
     ]
    }
   ],
   "source": [
    "from sklearn.cluster import MeanShift, estimate_bandwidth\n",
    "\n",
    "X = np.array(list(zip(scores, np.zeros(len(scores)))), dtype=np.float)\n",
    "bandwidth = estimate_bandwidth(X, quantile=0.1)\n",
    "ms = MeanShift(bandwidth=bandwidth, bin_seeding=True)\n",
    "ms.fit(X)\n",
    "labels = ms.labels_\n",
    "cluster_centers = ms.cluster_centers_\n",
    "\n",
    "labels_unique = np.unique(labels)\n",
    "n_clusters_ = len(labels_unique)\n",
    "\n",
    "ms_clusters = []\n",
    "for k in range(n_clusters_):\n",
    "    my_members = labels == k\n",
    "    print(\"cluster %i: %s\" % (k, str(X[my_members, 0])))\n",
    "    ms_clusters.append(X[my_members, 0])"
   ]
  },
  {
   "cell_type": "code",
   "execution_count": 120,
   "metadata": {
    "collapsed": false
   },
   "outputs": [
    {
     "data": {
      "image/png": "[encoded data removed]",
      "text/plain": [
       "<matplotlib.figure.Figure at 0x7fb9f87b3940>"
      ]
     },
     "metadata": {},
     "output_type": "display_data"
    }
   ],
   "source": [
    "import matplotlib\n",
    "import numpy as np\n",
    "import matplotlib.pyplot as plt\n",
    "import matplotlib.patches as patches\n",
    "from itertools import cycle\n",
    "cycol = cycle('bgrcymk')\n",
    "\n",
    "fig = plt.figure(figsize=(15,1))\n",
    "ax = fig.add_subplot(111)\n",
    "ax.scatter(scores, [0] * len(matches))\n",
    "\n",
    "for c in ms_clusters:\n",
    "    left = min(c)\n",
    "    right = max(c)\n",
    "    ax.add_patch(patches.Rectangle(\n",
    "            (left, -1), right-left, 2,\n",
    "            alpha=0.5,\n",
    "            facecolor=next(cycol)\n",
    "        ))\n",
    "\n",
    "plt.title(\"MeanShift Clusters\")\n",
    "plt.show()"
   ]
  },
  {
   "cell_type": "markdown",
   "metadata": {},
   "source": [
    "### Top cluster"
   ]
  },
  {
   "cell_type": "code",
   "execution_count": 121,
   "metadata": {
    "collapsed": false
   },
   "outputs": [
    {
     "data": {
      "text/plain": [
       "['London Luton Airport',\n",
       " 'London Gatwick Airport',\n",
       " 'London Heathrow Airport',\n",
       " 'London Stansted Airport']"
      ]
     },
     "execution_count": 121,
     "metadata": {},
     "output_type": "execute_result"
    }
   ],
   "source": [
    "max_cluster = ms_clusters[0]\n",
    "for c in ms_clusters[1:]:\n",
    "    if max(c) > max(max_cluster):\n",
    "        max_cluster = c\n",
    "\n",
    "list(map(lambda x: x[1][\"Name\"], filter(lambda x: x[0] >= min(max_cluster), matches)))"
   ]
  }
 ],
 "metadata": {
  "kernelspec": {
   "display_name": "Python 3",
   "language": "python",
   "name": "python3"
  },
  "language_info": {
   "codemirror_mode": {
    "name": "ipython",
    "version": 3
   },
   "file_extension": ".py",
   "mimetype": "text/x-python",
   "name": "python",
   "nbconvert_exporter": "python",
   "pygments_lexer": "ipython3",
   "version": "3.5.1+"
  }
 },
 "nbformat": 4,
 "nbformat_minor": 1
}
